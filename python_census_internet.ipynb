{
 "cells": [
  {
   "cell_type": "markdown",
   "metadata": {},
   "source": [
    "## Internet Access in Louisville"
   ]
  },
  {
   "cell_type": "code",
   "execution_count": 57,
   "metadata": {},
   "outputs": [],
   "source": [
    "import pandas as pd\n",
    "import numpy as np"
   ]
  },
  {
   "cell_type": "code",
   "execution_count": 58,
   "metadata": {},
   "outputs": [],
   "source": [
    "df = pd.read_csv(\"jeff_co_int.csv\")"
   ]
  },
  {
   "cell_type": "code",
   "execution_count": 59,
   "metadata": {},
   "outputs": [
    {
     "output_type": "execute_result",
     "data": {
      "text/plain": "['YEAR',\n 'SAMPLE',\n 'SERIAL',\n 'CBSERIAL',\n 'HHWT',\n 'CLUSTER',\n 'STATEFIP',\n 'METRO',\n 'MET2013',\n 'PUMA',\n 'STRATA',\n 'GQ',\n 'CINETHH',\n 'CILAPTOP',\n 'CISMRTPHN',\n 'CITABLET',\n 'CIHISPEED',\n 'CIDIAL',\n 'PERNUM',\n 'PERWT',\n 'SEX',\n 'AGE',\n 'RACE',\n 'RACED',\n 'HISPAN',\n 'HISPAND',\n 'EDUC',\n 'EDUCD',\n 'POVERTY',\n 'city',\n 'int_acc',\n 'hspd_int',\n 'computer',\n 'tablet',\n 'comp_tab',\n 'hspd_dev']"
     },
     "metadata": {},
     "execution_count": 59
    }
   ],
   "source": [
    "list(df)"
   ]
  },
  {
   "cell_type": "markdown",
   "metadata": {},
   "source": [
    "There is no case_when in pandas. So it's either a nested else if, or just create a new column and fill in the values. I find filling in the values easier to read than a nested else if"
   ]
  },
  {
   "cell_type": "code",
   "execution_count": 60,
   "metadata": {},
   "outputs": [],
   "source": [
    "# Start by creating a new column and filling it with NA values\n",
    "df['hspd'] = np.nan\n",
    "\n",
    "# Any time high speed internet is between 10 and 17 in the Census codebook it means they do have internet\n",
    "df['hspd'].loc[((df['CIHISPEED'] >= 10) & (df['CIHISPEED'] <= 17))] = 1\n",
    "\n",
    "# If they don't have internet at all and are NA for the high speed internet question then we want them marked as not having high speed internet, not as an NA value\n",
    "df['hspd'].loc[((df['CINETHH'] == 3) & (df['CIHISPEED'] == 0))] = 0\n",
    "\n",
    "# Finally if they say they don't have high speed internet we want them marked as not having high speed internet\n",
    "df['hspd'].loc[df['CIHISPEED'] == 20] = 0\n"
   ]
  },
  {
   "cell_type": "markdown",
   "metadata": {},
   "source": [
    "Now we need to use census weights to appropriately estimate the percentage of people with high speed internet in their households. "
   ]
  },
  {
   "cell_type": "code",
   "execution_count": 61,
   "metadata": {},
   "outputs": [],
   "source": [
    "# df18 = df.query('YEAR == 2018')\n",
    "df18 = df[df.YEAR == 2018]"
   ]
  },
  {
   "cell_type": "code",
   "execution_count": 62,
   "metadata": {},
   "outputs": [],
   "source": [
    "per_int = df18['PERWT'].loc[df18['hspd'] == 1].sum()\n",
    "per_no_int = df18['PERWT'].loc[df18['hspd'] == 0].sum()\n",
    "per_total = df18['PERWT'].sum()\n",
    "per_int_percent = per_int/per_total"
   ]
  },
  {
   "cell_type": "code",
   "execution_count": 63,
   "metadata": {},
   "outputs": [
    {
     "output_type": "execute_result",
     "data": {
      "text/plain": "0.7204147671636177"
     },
     "metadata": {},
     "execution_count": 63
    }
   ],
   "source": [
    "per_int_percent"
   ]
  },
  {
   "cell_type": "code",
   "execution_count": 64,
   "metadata": {},
   "outputs": [
    {
     "output_type": "execute_result",
     "data": {
      "text/plain": "771035"
     },
     "metadata": {},
     "execution_count": 64
    }
   ],
   "source": [
    "per_total"
   ]
  },
  {
   "cell_type": "code",
   "execution_count": 69,
   "metadata": {},
   "outputs": [
    {
     "output_type": "execute_result",
     "data": {
      "text/plain": "hspd  YEAR\n0.0   2013    161299\n      2014    170809\n      2015    144626\n      2016    158520\n      2017    160849\n      2018    184795\n1.0   2013    544770\n      2014    526480\n      2015    548358\n      2016    573787\n      2017    577340\n      2018    555465\nName: PERWT, dtype: int64"
     },
     "metadata": {},
     "execution_count": 69
    }
   ],
   "source": [
    "year_totals = df.groupby(by = ['hspd', 'YEAR'])['PERWT'].sum()\n",
    "year_totals"
   ]
  },
  {
   "cell_type": "markdown",
   "metadata": {},
   "source": [
    "Pivoting the dataframe is probably the easiest way to sum and get percentages now"
   ]
  },
  {
   "cell_type": "code",
   "execution_count": 66,
   "metadata": {},
   "outputs": [
    {
     "output_type": "execute_result",
     "data": {
      "text/plain": "hspd  YEAR\n0.0   2013    16.444014\n      2014    17.413533\n      2015    14.744245\n      2016    16.160702\n      2017    16.398137\n      2018    18.839370\n1.0   2013    16.378149\n      2014    15.828273\n      2015    16.486020\n      2016    17.250526\n      2017    17.357345\n      2018    16.699687\nName: PERWT, dtype: float64"
     },
     "metadata": {},
     "execution_count": 66
    }
   ],
   "source": [
    "year_percent = year_totals.groupby(by = 'YEAR').sum()"
   ]
  },
  {
   "cell_type": "code",
   "execution_count": 67,
   "metadata": {},
   "outputs": [
    {
     "output_type": "execute_result",
     "data": {
      "text/plain": "count    46480.000000\nmean         0.808498\nstd          0.393487\nmin          0.000000\n25%          1.000000\n50%          1.000000\n75%          1.000000\nmax          1.000000\nName: hspd, dtype: float64"
     },
     "metadata": {},
     "execution_count": 67
    }
   ],
   "source": [
    "df['hspd'].describe()\n"
   ]
  },
  {
   "cell_type": "code",
   "execution_count": 68,
   "metadata": {},
   "outputs": [
    {
     "output_type": "execute_result",
     "data": {
      "text/plain": "count    46480.000000\nmean         0.808498\nstd          0.393487\nmin          0.000000\n25%          1.000000\n50%          1.000000\n75%          1.000000\nmax          1.000000\nName: hspd_int, dtype: float64"
     },
     "metadata": {},
     "execution_count": 68
    }
   ],
   "source": [
    "df['hspd_int'].describe()"
   ]
  },
  {
   "cell_type": "code",
   "execution_count": null,
   "metadata": {},
   "outputs": [],
   "source": []
  }
 ],
 "metadata": {
  "language_info": {
   "codemirror_mode": {
    "name": "ipython",
    "version": 3
   },
   "file_extension": ".py",
   "mimetype": "text/x-python",
   "name": "python",
   "nbconvert_exporter": "python",
   "pygments_lexer": "ipython3",
   "version": 3
  },
  "orig_nbformat": 2,
  "kernelspec": {
   "name": "python_defaultSpec_1598652294055",
   "display_name": "Python 3.7.4 64-bit ('base': conda)"
  }
 },
 "nbformat": 4,
 "nbformat_minor": 2
}